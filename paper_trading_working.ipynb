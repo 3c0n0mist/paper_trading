{
 "cells": [
  {
   "cell_type": "markdown",
   "metadata": {},
   "source": [
    "## PAPER trading system\n",
    "the goal is to create a terminal app, to buy and sell stocks.\n",
    "stores stocks and a record of balance and stock on a dict.\n",
    "\n",
    "Pseudocode:\n",
    "\n",
    "create two programs, one to execute trades and the other to display a transaction record of the trades (possibly a dataframe)\n",
    "\n",
    "* import required libraries\n",
    "* import data\n"
   ]
  },
  {
   "cell_type": "code",
   "execution_count": 9,
   "metadata": {},
   "outputs": [],
   "source": [
    "#import libraries\n",
    "#import pandas_datareader as pdr\n",
    "import pandas as pd\n",
    "import numpy as np\n",
    "from pandas_datareader.yahoo.quotes import YahooQuotesReader\n",
    "import datetime as dt"
   ]
  },
  {
   "cell_type": "code",
   "execution_count": 62,
   "metadata": {},
   "outputs": [
    {
     "data": {
      "text/plain": [
       "15.345"
      ]
     },
     "execution_count": 62,
     "metadata": {},
     "output_type": "execute_result"
    }
   ],
   "source": [
    "# test\n",
    "float(YahooQuotesReader('INFY').read()['price'])"
   ]
  },
  {
   "cell_type": "code",
   "execution_count": 105,
   "metadata": {},
   "outputs": [
    {
     "name": "stdout",
     "output_type": "stream",
     "text": [
      "Overwriting functions.py\n"
     ]
    }
   ],
   "source": [
    "%%writefile 'functions.py'\n",
    "# import the libraries\n",
    "import pandas as pd\n",
    "import numpy as np\n",
    "from pandas_datareader.yahoo.quotes import YahooQuotesReader\n",
    "import datetime as dt\n",
    "import sys\n",
    "\n",
    "# the functions\n",
    "def price_gen(x):\n",
    "    \"\"\"\n",
    "    takes a stock symbol as presented in yahoo finance and extracts the price.\n",
    "    \"\"\"\n",
    "    p = YahooQuotesReader(x).read()['price']\n",
    "    return float(p)\n",
    "\n",
    "\n",
    "def trade(pf,p,q,x,t):\n",
    "    \"\"\"\n",
    "    a buy algortihm to record buy qty and price.\n",
    "    t is a flag indicator for buy or sell, 1 buy and 0 sell \n",
    "    \"\"\"\n",
    "\n",
    "    if len(pf) == 1:\n",
    "        b = float(pf['Balance'])\n",
    "    else:\n",
    "        b = float(pf['Balance'].tail(1))\n",
    "\n",
    "    # if t = 1, means buy        \n",
    "    if t > 0 :\n",
    "        b = b - p*q\n",
    "        print(f'bought {q} units of {x} at price {p}, remaining balance is {b}')\n",
    "    else:\n",
    "        b = b + p*q\n",
    "        print(f'sold {q} units of {x} at price {p}, remaining balance is {b}')\n",
    "    \n",
    "    pf = pf.append({'Date':str(dt.datetime.today().date()),'Balance':b,'Price':p,'Qty':q,'Stock':x},ignore_index=True)\n",
    "    print('appended to pf')\n",
    "    return(pf)"
   ]
  },
  {
   "cell_type": "code",
   "execution_count": 110,
   "metadata": {},
   "outputs": [
    {
     "name": "stdout",
     "output_type": "stream",
     "text": [
      "Overwriting paper_trade.py\n"
     ]
    }
   ],
   "source": [
    "%%writefile 'paper_trade.py'\n",
    "#import functions\n",
    "from functions import *\n",
    "if len(sys.argv)>1:\n",
    "    word = str(sys.argv[1:])\n",
    "    # to reinitiate the paper trading system\n",
    "    if (word == \"['restart']\"):\n",
    "        b = float(input('what balance would you like to begin with?'))\n",
    "        pf = [{'Date':str(dt.datetime.today().date()),'Balance':b,'Price':0.00,'Qty':0,'Stock':'NA'}]\n",
    "        pf = pd.DataFrame(pf)\n",
    "        pf.to_pickle('portfolio.pkl')\n",
    "        print('reinitiated')\n",
    "    else:\n",
    "        print('please type restart if you wish to reinitiate.')\n",
    "\n",
    "else:\n",
    "    # the paper trading system\n",
    "    x = input('the stock symbol as per yahoo_finance:') # the stock \n",
    "    q = int(input('units:')) # the quantity\n",
    "    t = int(input ('1 = Buy, 0 = sell:')) # trade\n",
    "    p = price_gen(x) # the price as per the current date\n",
    "\n",
    "    pf = pd.read_pickle('portfolio.pkl')\n",
    "    pd.set_option('display.max_columns',5)\n",
    "    print(pf) # prints the portfolio\n",
    "\n",
    "    pf = trade(pf,p,q,x,t)# executes the trade and appends the pf\n",
    "    pf.to_pickle('portfolio.pkl') # store \n",
    "\n",
    "    print('The trade has been executed.')"
   ]
  },
  {
   "cell_type": "code",
   "execution_count": 99,
   "metadata": {},
   "outputs": [],
   "source": []
  },
  {
   "cell_type": "code",
   "execution_count": 94,
   "metadata": {},
   "outputs": [
    {
     "data": {
      "text/plain": [
       "1    99984.675\n",
       "Name: Balance, dtype: float64"
      ]
     },
     "execution_count": 94,
     "metadata": {},
     "output_type": "execute_result"
    }
   ],
   "source": [
    "test = pd.read_pickle('portfolio.pkl')\n",
    "test['Balance'].tail(1)"
   ]
  },
  {
   "cell_type": "code",
   "execution_count": 50,
   "metadata": {},
   "outputs": [
    {
     "data": {
      "text/plain": [
       "1"
      ]
     },
     "execution_count": 50,
     "metadata": {},
     "output_type": "execute_result"
    }
   ],
   "source": [
    "#float(pf['Balance'][0])\n",
    "len(pf['Balance'])"
   ]
  },
  {
   "cell_type": "code",
   "execution_count": 15,
   "metadata": {},
   "outputs": [
    {
     "data": {
      "text/plain": [
       "'2020-10-21'"
      ]
     },
     "execution_count": 15,
     "metadata": {},
     "output_type": "execute_result"
    }
   ],
   "source": [
    "str(dt.datetime.today().date())"
   ]
  },
  {
   "cell_type": "code",
   "execution_count": 68,
   "metadata": {},
   "outputs": [
    {
     "data": {
      "text/html": [
       "<div>\n",
       "<style scoped>\n",
       "    .dataframe tbody tr th:only-of-type {\n",
       "        vertical-align: middle;\n",
       "    }\n",
       "\n",
       "    .dataframe tbody tr th {\n",
       "        vertical-align: top;\n",
       "    }\n",
       "\n",
       "    .dataframe thead th {\n",
       "        text-align: right;\n",
       "    }\n",
       "</style>\n",
       "<table border=\"1\" class=\"dataframe\">\n",
       "  <thead>\n",
       "    <tr style=\"text-align: right;\">\n",
       "      <th></th>\n",
       "      <th>Date</th>\n",
       "      <th>Balance</th>\n",
       "      <th>Price</th>\n",
       "      <th>Qty</th>\n",
       "      <th>Stock</th>\n",
       "    </tr>\n",
       "  </thead>\n",
       "  <tbody>\n",
       "    <tr>\n",
       "      <th>0</th>\n",
       "      <td>2020-10-21</td>\n",
       "      <td>100000</td>\n",
       "      <td>0.0</td>\n",
       "      <td>0</td>\n",
       "      <td>DUMMY</td>\n",
       "    </tr>\n",
       "    <tr>\n",
       "      <th>1</th>\n",
       "      <td>2020-10-21</td>\n",
       "      <td>200000</td>\n",
       "      <td>0.0</td>\n",
       "      <td>0</td>\n",
       "      <td>DUMMY</td>\n",
       "    </tr>\n",
       "  </tbody>\n",
       "</table>\n",
       "</div>"
      ],
      "text/plain": [
       "         Date  Balance  Price  Qty  Stock\n",
       "0  2020-10-21   100000    0.0    0  DUMMY\n",
       "1  2020-10-21   200000    0.0    0  DUMMY"
      ]
     },
     "execution_count": 68,
     "metadata": {},
     "output_type": "execute_result"
    }
   ],
   "source": [
    "pf.append({'Date':str(dt.datetime.today().date()),'Balance':200000,'Price':0.00,'Qty':0,'Stock':'DUMMY'},ignore_index=True)"
   ]
  },
  {
   "cell_type": "code",
   "execution_count": 69,
   "metadata": {},
   "outputs": [
    {
     "data": {
      "text/html": [
       "<div>\n",
       "<style scoped>\n",
       "    .dataframe tbody tr th:only-of-type {\n",
       "        vertical-align: middle;\n",
       "    }\n",
       "\n",
       "    .dataframe tbody tr th {\n",
       "        vertical-align: top;\n",
       "    }\n",
       "\n",
       "    .dataframe thead th {\n",
       "        text-align: right;\n",
       "    }\n",
       "</style>\n",
       "<table border=\"1\" class=\"dataframe\">\n",
       "  <thead>\n",
       "    <tr style=\"text-align: right;\">\n",
       "      <th></th>\n",
       "      <th>Date</th>\n",
       "      <th>Balance</th>\n",
       "      <th>Price</th>\n",
       "      <th>Qty</th>\n",
       "      <th>Stock</th>\n",
       "    </tr>\n",
       "  </thead>\n",
       "  <tbody>\n",
       "    <tr>\n",
       "      <th>0</th>\n",
       "      <td>2020-10-21</td>\n",
       "      <td>100000</td>\n",
       "      <td>0.0</td>\n",
       "      <td>0</td>\n",
       "      <td>DUMMY</td>\n",
       "    </tr>\n",
       "  </tbody>\n",
       "</table>\n",
       "</div>"
      ],
      "text/plain": [
       "         Date  Balance  Price  Qty  Stock\n",
       "0  2020-10-21   100000    0.0    0  DUMMY"
      ]
     },
     "execution_count": 69,
     "metadata": {},
     "output_type": "execute_result"
    }
   ],
   "source": [
    "pf"
   ]
  },
  {
   "cell_type": "code",
   "execution_count": null,
   "metadata": {},
   "outputs": [],
   "source": []
  }
 ],
 "metadata": {
  "kernelspec": {
   "display_name": "Python 3",
   "language": "python",
   "name": "python3"
  },
  "language_info": {
   "codemirror_mode": {
    "name": "ipython",
    "version": 3
   },
   "file_extension": ".py",
   "mimetype": "text/x-python",
   "name": "python",
   "nbconvert_exporter": "python",
   "pygments_lexer": "ipython3",
   "version": "3.7.4"
  }
 },
 "nbformat": 4,
 "nbformat_minor": 4
}
